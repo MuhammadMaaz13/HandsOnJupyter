{
 "cells": [
  {
   "cell_type": "markdown",
   "id": "74bb2ae1",
   "metadata": {},
   "source": [
    "## Data Science Tools and Ecosystem"
   ]
  },
  {
   "cell_type": "markdown",
   "id": "40b15a35",
   "metadata": {},
   "source": [
    "In this notebook, Data Science Tools and Ecosystem are summarized."
   ]
  },
  {
   "cell_type": "markdown",
   "id": "1242fdf9",
   "metadata": {},
   "source": [
    "**Objectives:**\n",
    "- DataScience Languages\n",
    "- DataScience Libraries\n",
    "- DataScience Tools"
   ]
  },
  {
   "cell_type": "markdown",
   "id": "686cb1be",
   "metadata": {},
   "source": [
    "Some of the popular languages that Data Scientists use are:\n",
    "1. Python\n",
    "2. R\n",
    "3. Julia\n",
    "4. Scala"
   ]
  },
  {
   "cell_type": "markdown",
   "id": "cecefc0b",
   "metadata": {},
   "source": [
    "Some of the commonly used libraries used by Data Scientists include:\n",
    "1. Pandas\n",
    "2. Sciki-learn\n",
    "3. Numpy\n",
    "4. Plotly"
   ]
  },
  {
   "cell_type": "markdown",
   "id": "eca85042",
   "metadata": {},
   "source": [
    "|Data Science Tools|\n",
    ":--:\n",
    "|JupyterLab|\n",
    "|VScode|\n",
    "|Rstudio|"
   ]
  },
  {
   "cell_type": "markdown",
   "id": "93d52639",
   "metadata": {},
   "source": [
    "Below are a few examples of evaluating arithmetic expressions in Python."
   ]
  },
  {
   "cell_type": "code",
   "execution_count": 2,
   "id": "6fd62620",
   "metadata": {},
   "outputs": [
    {
     "data": {
      "text/plain": [
       "17"
      ]
     },
     "execution_count": 2,
     "metadata": {},
     "output_type": "execute_result"
    }
   ],
   "source": [
    "#This a simple arithmetic expression to mutiply then add integers.\n",
    "(3*4)+5"
   ]
  },
  {
   "cell_type": "code",
   "execution_count": 3,
   "id": "97fc902b",
   "metadata": {},
   "outputs": [
    {
     "name": "stdout",
     "output_type": "stream",
     "text": [
      "3.3333333333333335\n"
     ]
    }
   ],
   "source": [
    "#This will convert 200 minutes to hours by diving by 60.\n",
    "hours=200/60\n",
    "print(hours)"
   ]
  },
  {
   "cell_type": "markdown",
   "id": "e1384dbb",
   "metadata": {},
   "source": [
    "## Author\n",
    "Muhammad Maaz"
   ]
  },
  {
   "cell_type": "code",
   "execution_count": null,
   "id": "0cbdb454",
   "metadata": {},
   "outputs": [],
   "source": []
  }
 ],
 "metadata": {
  "kernelspec": {
   "display_name": "Python 3 (ipykernel)",
   "language": "python",
   "name": "python3"
  },
  "language_info": {
   "codemirror_mode": {
    "name": "ipython",
    "version": 3
   },
   "file_extension": ".py",
   "mimetype": "text/x-python",
   "name": "python",
   "nbconvert_exporter": "python",
   "pygments_lexer": "ipython3",
   "version": "3.9.13"
  }
 },
 "nbformat": 4,
 "nbformat_minor": 5
}
